{
 "cells": [
  {
   "cell_type": "code",
   "execution_count": null,
   "id": "0db1dff1-fd2a-43c3-a215-ee85f7ce045a",
   "metadata": {},
   "outputs": [],
   "source": [
    "import pandas as pd\n",
    "import numpy as np\n",
    "import numpy_financial as npf\n",
    "import pandas_datareader.data as web\n",
    "import requests\n",
    "import datetime\n",
    "from dotenv import load_dotenv\n",
    "import os"
   ]
  },
  {
   "cell_type": "code",
   "execution_count": null,
   "id": "536e3b48-4068-4320-bdb4-87d9d6fe58df",
   "metadata": {},
   "outputs": [],
   "source": [
    "load_dotenv()"
   ]
  },
  {
   "cell_type": "markdown",
   "id": "65b6048f-643a-4af9-a3a2-94fdd3ea6d33",
   "metadata": {},
   "source": [
    "In order to do a discounted cash flow (DCF) analysis we need to fetch data from actual income statements and balance sheet from the company to get an estimated statement of free cash flows (FCF).  Because Disney had a negative cash flow and negative income in 2020, we chose to do our analysis using 2019 numbers and using 2020 as the first year of forecasted values.  Below you will see an \"A\" after the year for actual values and an \"F\" for forecasted.  Income statement was pulled using the Fianancial Modeling Prep API. The Average growth over the last three years was calculated using the last three years of income statments.  Forecast values were predicted using the income statement from 2019 as a percent of revenue (as_%_of_revenue)."
   ]
  },
  {
   "cell_type": "code",
   "execution_count": null,
   "id": "534473ba-0ac1-4ca5-a3a5-f91ae2cd0aff",
   "metadata": {},
   "outputs": [],
   "source": [
    "api_key = os.getenv(\"FMP\")\n",
    "api_keyalpha = os.getenv(\"alpha_vantage\")\n",
    "company = 'DIS'"
   ]
  },
  {
   "cell_type": "code",
   "execution_count": null,
   "id": "b870e54b-d721-4630-b7b4-55029cfbd22b",
   "metadata": {},
   "outputs": [],
   "source": [
    "#Five year projection based on 2019 being the initial year\n",
    "\n",
    "IS= requests.get(f'https://financialmodelingprep.com/api/v3/income-statement/{company}?apikey={api_key}').json()\n",
    "\n",
    "#Calculation of average revenue growth for the last 3 years.\n",
    "revenue_growth = (IS[0]['revenue'] - IS[1]['revenue']) / IS[1]['revenue']\n",
    "revenue_growth1 = (IS[1]['revenue'] - IS[2]['revenue']) / IS[2]['revenue']\n",
    "revenue_growth2 = (IS[2]['revenue'] - IS[3]['revenue']) / IS[3]['revenue']\n",
    "#avg_growth = (revenue_growth + revenue_growth1 + revenue_growth2) / 3\n",
    "#We calculated an average growth rate, but decided to use -0.02 and 0.05 as min and max values so these will have to be manually input below:\n",
    "\n",
    "avg_growth = -0.02\n",
    "\n",
    "\n",
    "#Forecast Income statement from 2020 - 2024.\n",
    "net_income = IS[1]['netIncome']\n",
    "income_statement = pd.DataFrame.from_dict(IS[1],orient='index')\n",
    "income_statement = income_statement[6:28]\n",
    "income_statement.columns = ['2019A']\n",
    "income_statement['as_%_of_revenue'] = income_statement / income_statement.iloc[0]\n",
    "\n",
    "income_statement['2020F'] =  (income_statement['2019A']['revenue'] * (1+avg_growth)) * income_statement['as_%_of_revenue'] \n",
    "income_statement['2021F'] =  (income_statement['2020F']['revenue'] * (1+avg_growth)) * income_statement['as_%_of_revenue'] \n",
    "income_statement['2022F'] =  (income_statement['2021F']['revenue'] * (1+avg_growth)) * income_statement['as_%_of_revenue'] \n",
    "income_statement['2023F'] =  (income_statement['2022F']['revenue'] * (1+avg_growth)) * income_statement['as_%_of_revenue'] \n",
    "income_statement['2024F'] =  (income_statement['2023F']['revenue'] * (1+avg_growth)) * income_statement['as_%_of_revenue'] \n",
    "income_statement"
   ]
  },
  {
   "cell_type": "code",
   "execution_count": null,
   "id": "6521a296-7845-4973-813c-611dc2499d31",
   "metadata": {},
   "outputs": [],
   "source": [
    "#Fetch Balance sheet data from 2019.\n",
    "BS = requests.get(f'https://financialmodelingprep.com/api/v3/balance-sheet-statement/{company}?apikey={api_key}').json()\n",
    "\n",
    "balance_sheet = pd.DataFrame.from_dict(BS[1],orient='index')\n",
    "balance_sheet = balance_sheet[6:-2]\n",
    "balance_sheet.columns = ['2019A']\n",
    "balance_sheet['as_%_of_revenue'] = balance_sheet / income_statement['2019A'].iloc[0]\n",
    "\n",
    "#Forecasting Balance Sheet from 2020 - 2024.\n",
    "balance_sheet['2020F'] =  income_statement['2020F']['revenue'] * balance_sheet['as_%_of_revenue']\n",
    "balance_sheet['2021F'] =  income_statement['2021F']['revenue'] * balance_sheet['as_%_of_revenue']\n",
    "balance_sheet['2022F'] =  income_statement['2022F']['revenue'] * balance_sheet['as_%_of_revenue'] \n",
    "balance_sheet['2023F'] =  income_statement['2023F']['revenue'] * balance_sheet['as_%_of_revenue'] \n",
    "balance_sheet['2024F'] =  income_statement['2024F']['revenue'] * balance_sheet['as_%_of_revenue']\n",
    "balance_sheet"
   ]
  },
  {
   "cell_type": "code",
   "execution_count": null,
   "id": "dfb2b5ce-b7f1-46cb-be15-474ef8ea1b76",
   "metadata": {},
   "outputs": [],
   "source": [
    "#Statment of Cash Flows for 2020 - 2024 predicted using items from the income statement and balance sheet\n",
    "CF_forecast = {}\n",
    "CF_forecast['2020F'] = {}\n",
    "CF_forecast['2020F']['netIncome'] = income_statement['2020F']['netIncome']\n",
    "CF_forecast['2020F']['inc_depreciation'] = income_statement['2020F']['depreciationAndAmortization']\n",
    "CF_forecast['2020F']['inc_receivables'] = balance_sheet['2020F']['netReceivables'] - balance_sheet['2019A']['netReceivables']\n",
    "CF_forecast['2020F']['inc_inventory'] = balance_sheet['2020F']['inventory'] - balance_sheet['2019A']['inventory']\n",
    "CF_forecast['2020F']['inc_payables'] = balance_sheet['2020F']['accountPayables'] - balance_sheet['2019A']['accountPayables']\n",
    "CF_forecast['2020F']['CF_operations'] = CF_forecast['2020F']['netIncome'] + CF_forecast['2020F']['inc_depreciation'] + (CF_forecast['2020F']['inc_receivables'] * -1) + (CF_forecast['2020F']['inc_inventory'] *-1) + CF_forecast['2020F']['inc_payables']\n",
    "CF_forecast['2020F']['CAPEX'] = balance_sheet['2020F']['propertyPlantEquipmentNet'] - balance_sheet['2019A']['propertyPlantEquipmentNet'] + income_statement['2020F']['depreciationAndAmortization']\n",
    "CF_forecast['2020F']['FCF'] = CF_forecast['2020F']['CAPEX'] + CF_forecast['2020F']['CF_operations']\n",
    "\n",
    "\n",
    "CF_forecast['2021F'] = {}\n",
    "CF_forecast['2021F']['netIncome'] = income_statement['2021F']['netIncome']\n",
    "CF_forecast['2021F']['inc_depreciation'] = income_statement['2021F']['depreciationAndAmortization']\n",
    "CF_forecast['2021F']['inc_receivables'] = balance_sheet['2021F']['netReceivables'] - balance_sheet['2020F']['netReceivables']\n",
    "CF_forecast['2021F']['inc_inventory'] = balance_sheet['2021F']['inventory'] - balance_sheet['2020F']['inventory']\n",
    "CF_forecast['2021F']['inc_payables'] = balance_sheet['2021F']['accountPayables'] - balance_sheet['2020F']['accountPayables']\n",
    "CF_forecast['2021F']['CF_operations'] = CF_forecast['2021F']['netIncome'] + CF_forecast['2021F']['inc_depreciation'] + (CF_forecast['2021F']['inc_receivables'] * -1) + (CF_forecast['2021F']['inc_inventory'] *-1) + CF_forecast['2021F']['inc_payables']\n",
    "CF_forecast['2021F']['CAPEX'] = balance_sheet['2021F']['propertyPlantEquipmentNet'] - balance_sheet['2020F']['propertyPlantEquipmentNet'] + income_statement['2021F']['depreciationAndAmortization']\n",
    "CF_forecast['2021F']['FCF'] = CF_forecast['2021F']['CAPEX'] + CF_forecast['2021F']['CF_operations']\n",
    "\n",
    "\n",
    "CF_forecast['2022F'] = {}\n",
    "CF_forecast['2022F']['netIncome'] = income_statement['2022F']['netIncome']\n",
    "CF_forecast['2022F']['inc_depreciation'] = income_statement['2022F']['depreciationAndAmortization'] \n",
    "CF_forecast['2022F']['inc_receivables'] = balance_sheet['2022F']['netReceivables'] - balance_sheet['2021F']['netReceivables']\n",
    "CF_forecast['2022F']['inc_inventory'] = balance_sheet['2022F']['inventory'] - balance_sheet['2021F']['inventory']\n",
    "CF_forecast['2022F']['inc_payables'] = balance_sheet['2022F']['accountPayables'] - balance_sheet['2021F']['accountPayables']\n",
    "CF_forecast['2022F']['CF_operations'] = CF_forecast['2022F']['netIncome'] + CF_forecast['2022F']['inc_depreciation'] + (CF_forecast['2022F']['inc_receivables'] * -1) + (CF_forecast['2022F']['inc_inventory'] *-1) + CF_forecast['2022F']['inc_payables']\n",
    "CF_forecast['2022F']['CAPEX'] = balance_sheet['2022F']['propertyPlantEquipmentNet'] - balance_sheet['2021F']['propertyPlantEquipmentNet'] + income_statement['2022F']['depreciationAndAmortization']\n",
    "CF_forecast['2022F']['FCF'] = CF_forecast['2022F']['CAPEX'] + CF_forecast['2022F']['CF_operations']\n",
    "\n",
    "\n",
    "CF_forecast['2023F'] = {}\n",
    "CF_forecast['2023F']['netIncome'] = income_statement['2023F']['netIncome']\n",
    "CF_forecast['2023F']['inc_depreciation'] = income_statement['2023F']['depreciationAndAmortization']\n",
    "CF_forecast['2023F']['inc_receivables'] = balance_sheet['2023F']['netReceivables'] - balance_sheet['2022F']['netReceivables']\n",
    "CF_forecast['2023F']['inc_inventory'] = balance_sheet['2023F']['inventory'] - balance_sheet['2022F']['inventory']\n",
    "CF_forecast['2023F']['inc_payables'] = balance_sheet['2023F']['accountPayables'] - balance_sheet['2022F']['accountPayables']\n",
    "CF_forecast['2023F']['CF_operations'] = CF_forecast['2023F']['netIncome'] + CF_forecast['2023F']['inc_depreciation'] + (CF_forecast['2023F']['inc_receivables'] * -1) + (CF_forecast['2023F']['inc_inventory'] *-1) + CF_forecast['2023F']['inc_payables']\n",
    "CF_forecast['2023F']['CAPEX'] = balance_sheet['2023F']['propertyPlantEquipmentNet'] - balance_sheet['2022F']['propertyPlantEquipmentNet'] + income_statement['2023F']['depreciationAndAmortization']\n",
    "CF_forecast['2023F']['FCF'] = CF_forecast['2023F']['CAPEX'] + CF_forecast['2023F']['CF_operations']\n",
    "\n",
    "CF_forecast['2024F'] = {}\n",
    "CF_forecast['2024F']['netIncome'] = income_statement['2024F']['netIncome']\n",
    "CF_forecast['2024F']['inc_depreciation'] = income_statement['2024F']['depreciationAndAmortization'] \n",
    "CF_forecast['2024F']['inc_receivables'] = balance_sheet['2024F']['netReceivables'] - balance_sheet['2023F']['netReceivables']\n",
    "CF_forecast['2024F']['inc_inventory'] = balance_sheet['2024F']['inventory'] - balance_sheet['2023F']['inventory']\n",
    "CF_forecast['2024F']['inc_payables'] = balance_sheet['2024F']['accountPayables'] - balance_sheet['2023F']['accountPayables']\n",
    "CF_forecast['2024F']['CF_operations'] = CF_forecast['2024F']['netIncome'] + CF_forecast['2024F']['inc_depreciation'] + (CF_forecast['2024F']['inc_receivables'] * -1) + (CF_forecast['2024F']['inc_inventory'] *-1) + CF_forecast['2024F']['inc_payables']\n",
    "CF_forecast['2024F']['CAPEX'] = balance_sheet['2024F']['propertyPlantEquipmentNet'] - balance_sheet['2023F']['propertyPlantEquipmentNet'] + income_statement['2024F']['depreciationAndAmortization']\n",
    "CF_forecast['2024F']['FCF'] = CF_forecast['2024F']['CAPEX'] + CF_forecast['2024F']['CF_operations']\n",
    "\n",
    "CF_fiveyear = pd.DataFrame.from_dict(CF_forecast,orient='columns')\n",
    "print(CF_fiveyear)"
   ]
  },
  {
   "cell_type": "markdown",
   "id": "daf5fe21-0321-4da9-a6a0-8ad43033dc16",
   "metadata": {},
   "source": [
    "In order to do the DCF analysis the weighted average cost of capital (wacc) needs to be calcualted (Formula below).  WACC can be estimated or calcuate it in several ways, we have chosen to calculate it it using the equation below.\n",
    "\n",
    "WACC = Kd * (1 -Tc) * (D /D+E) + Ke * (E /D+E)\n",
    "Where Kd = the cost of debt\n",
    "Tc = tax rate (what is referred to below as effect tax rate, ETR)\n",
    "Ke = Cost of equity\n",
    "D/D+E = Proportion of debt in firm capital structure (items retrieved from the balance sheet)\n",
    "E/D+E = Proporation of equity in firm capital structure\n",
    "\n",
    "The first term, Kd, is calculated by Kd = Rf + Credit Spread\n",
    "rf = the risk free rate\n",
    "credit spread = is determined by the firm's credit rating which can be calculated using the interest coverage ratio.\n",
    "\n",
    "In order to get this value the interest coverage and risk free rate need to be calcualted.  The interest coverage ratio is simply EBIT divided by the interest expense (items retrieved from the income statement).  For the risk free rate (RF), which is defined as the theoretical rate of return of an investment with zero risk, we can estimate using the rate of return for one year t-bills which is retrieved using pandas data reader.  This will be used to estimate the cost of debt."
   ]
  },
  {
   "cell_type": "code",
   "execution_count": null,
   "id": "f51b83b2-c275-47b9-a6c5-cbd851be9aa5",
   "metadata": {},
   "outputs": [],
   "source": [
    "#Function to caluculate interest coverage ratio from items on most recent income statement\n",
    "def interest_coverage_and_RF(company):\n",
    "    IS= requests.get(f'https://financialmodelingprep.com/api/v3/income-statement/{company}?apikey={api_key}').json()\n",
    "    EBIT= IS[1]['ebitda'] - IS[1]['depreciationAndAmortization'] \n",
    "    interest_expense = IS[1]['interestExpense']\n",
    "    interest_coverage_ratio = EBIT / interest_expense\n",
    "    \n",
    "#Calculation of risk free rate using most recent data for one year treasury bills\n",
    "    start = datetime.datetime(2019, 7, 12)\n",
    "    end = datetime.datetime(2020, 7, 12)\n",
    "    Treasury = web.DataReader(['TB1YR'], 'fred', start, end)\n",
    "    RF = float(Treasury.iloc[-1])\n",
    "    RF = RF/100\n",
    "    print(RF, interest_coverage_ratio)\n",
    "    return [RF,interest_coverage_ratio]\n",
    "\n",
    "interest = interest_coverage_and_RF(company)\n",
    "RF = interest[0]\n",
    "interest_coverage_ratio = interest[1]"
   ]
  },
  {
   "cell_type": "markdown",
   "id": "c7d58557-6cb2-406d-9f19-7431c8aaaa8c",
   "metadata": {},
   "source": [
    "The following takes in the interest coverage ratio calculated above to determine the credit rating of the company and thus determine their credit spread.  This table can be found at http://pages.stern.nyu.edu/~adamodar/New_Home_Page/datafile/ratings.htm. Having determined the credit spread we can calculate Kd (rf + credit spread)"
   ]
  },
  {
   "cell_type": "code",
   "execution_count": null,
   "id": "6be78bd0-e1ed-459a-81c2-f098fa89ae49",
   "metadata": {},
   "outputs": [],
   "source": [
    "#Rating is AAA\n",
    "credit_spread = 0.0063\n",
    "cost_of_debt = RF + credit_spread\n",
    "ke = cost_of_debt"
   ]
  },
  {
   "cell_type": "markdown",
   "id": "eab04033-8b44-4951-9442-1d6210937da5",
   "metadata": {},
   "source": [
    "Cost of equity (ke) which investopedia defines as the return a company requires to decide if an investment meets capital return requirements.  This is calculated using the company beta which is pulled from the api, the rf rate calculated above, and using the 2019 - 2020 return on the S&P500 which is again pulled from the pandas data reader library."
   ]
  },
  {
   "cell_type": "code",
   "execution_count": null,
   "id": "3e8ac83f-0b9f-4d47-bff1-b55ae50edcd7",
   "metadata": {},
   "outputs": [],
   "source": [
    "beta = requests.get(f'https://financialmodelingprep.com/api/v3/company/profile/{company}?apikey={api_key}').json()\n",
    "beta = float(beta['profile']['beta'])\n",
    "    \n",
    "#Market Return\n",
    "start = datetime.datetime(2019, 7, 10)\n",
    "end = datetime.datetime(2020, 7, 10)\n",
    "    \n",
    "SP500 = web.DataReader(['sp500'], 'fred', start, end)\n",
    "SP500.dropna(inplace = True)\n",
    "    \n",
    "SP500yearlyreturn = (SP500['sp500'].iloc[-1]/ SP500['sp500'].iloc[-252])-1\n",
    "    \n",
    "cost_of_equity = RF+(beta*(SP500yearlyreturn - RF))\n",
    "print(cost_of_equity)\n",
    "\n",
    "ke = cost_of_equity"
   ]
  },
  {
   "cell_type": "markdown",
   "id": "2ebaf73b-e0e6-4d1b-bdb4-1978ea60fc6a",
   "metadata": {},
   "source": [
    "Finally, the effective tax rate (ETR) is pull from the financial ratios (FR) portion of the api."
   ]
  },
  {
   "cell_type": "code",
   "execution_count": null,
   "id": "cf5bc4a5-058c-44d0-9a09-d1524cae8fed",
   "metadata": {},
   "outputs": [],
   "source": [
    "FR = requests.get(f'https://financialmodelingprep.com/api/v3/ratios/{company}?apikey={api_key}').json()\n",
    "ETR = FR[1]['effectiveTaxRate']\n",
    "    \n",
    "    #Capital structure calculated from items on balance sheet (BS)\n",
    "BS = requests.get(f'https://www.alphavantage.co/query?function=BALANCE_SHEET&symbol={company}&apikey={api_keyalpha}').json()\n",
    "Debt_to = int(BS['annualReports'][1]['shortLongTermDebtTotal']) / (int(BS['annualReports'][1]['shortLongTermDebtTotal']) + int(BS['annualReports'][1]['totalShareholderEquity']))\n",
    "equity_to = int(BS['annualReports'][1]['totalShareholderEquity']) / (int(BS['annualReports'][1]['shortLongTermDebtTotal']) + int(BS['annualReports'][1]['totalShareholderEquity']))\n",
    "wacc = (kd*(1-ETR)*Debt_to) + (ke*equity_to)"
   ]
  },
  {
   "cell_type": "markdown",
   "id": "2ffd6da5-812a-472b-be69-1d54a6e52f1a",
   "metadata": {},
   "source": [
    "Having the wacc in hand we can use the predicted cashflows and calculate the net present value (npv) using numpy financial."
   ]
  },
  {
   "cell_type": "code",
   "execution_count": null,
   "id": "b9e391d3-0d24-4e2b-b818-91f88b19253e",
   "metadata": {},
   "outputs": [],
   "source": [
    "FCF_list = CF_fiveyear.iloc[-1].values.tolist()\n",
    "npv = npf.npv(wacc, FCF_list)\n",
    "npv"
   ]
  },
  {
   "cell_type": "markdown",
   "id": "1b2d3fb9-4981-4575-8a1d-7d804b834142",
   "metadata": {},
   "source": [
    "Obviously, a company will probably not stop growing after the time we have forecasted above so a terminal value is calculated assuming longterm growth (perpetuity model). We assumed a 2% long-term growth which seems to be standard, but can change.  This terminal value was then dicounted to the present using the wacc calculated as the discount rate."
   ]
  },
  {
   "cell_type": "code",
   "execution_count": null,
   "id": "20c6a188-62ae-42a0-aa42-892eb8798beb",
   "metadata": {},
   "outputs": [],
   "source": [
    "#Terminal Value\n",
    "\n",
    "lt_growth = 0.02\n",
    "\n",
    "terminal_value = (CF_forecast['2024F']['FCF'] * (1+ lt_growth)) /(wacc  - lt_growth)\n",
    "discounted_tv = terminal_value/(1+wacc)**4\n",
    "discounted_tv"
   ]
  },
  {
   "cell_type": "code",
   "execution_count": null,
   "id": "2111e59d-5fc6-4133-a8db-0299dd360297",
   "metadata": {},
   "outputs": [],
   "source": [
    "target_equity_value = discounted_tv + npv\n",
    "debt = balance_sheet['2019A']['totalDebt']\n",
    "target_value = target_equity_value - debt\n",
    "\n",
    "num_shares = requests.get(f'https://financialmodelingprep.com/api/v3/enterprise-values/{company}?apikey={api_key}').json()\n",
    "num_shares = num_shares[0]['numberOfShares']\n",
    "\n",
    "target_price_per_share = target_value/num_shares\n",
    "target_price_per_share"
   ]
  },
  {
   "cell_type": "markdown",
   "id": "31284143-a201-4a63-a207-db8444e76d91",
   "metadata": {},
   "source": [
    "The code above can be run for the three evaluated growth percentages (pessimistic, neutral, optimistic: -2%, 2%, and 5%, repsectively) to obtain a range of predicted stock prices."
   ]
  },
  {
   "cell_type": "code",
   "execution_count": null,
   "id": "fd716135-952b-4b33-9302-a415f8613608",
   "metadata": {},
   "outputs": [],
   "source": [
    "df_data = {'Valuation Method':['DCF\\n($321.27 - 505.17)', 'EV/EBITDA\\n($84.45 - 128.69)','Monte Carlo Sim\\n($63.42 - 916.11)', '5yr-Range\\n($85.76 - 201.91)'],\n",
    "          'Upper': [505.17, 128.69, 63.42, 201.91],\n",
    "          'Lower': [321.27, 84.45, 916.11, 85.76]}\n",
    "df = pd.DataFrame(df_data)\n",
    "df['Height'] = df['Upper'] - df['Lower']\n",
    "\n",
    "ax = df.plot(kind='bar', y='Height', x='Valuation Method', bottom=df['Lower'], color='red', legend=False)\n",
    "ax.axhline(y=181.60, xmin=0, xmax=1, marker='_', color='black')\n",
    "ax.set_ylim(ymin=0, ymax=1100)\n",
    "ax.set_ylabel('Stock Price/Share')\n",
    "plt.tight_layout()\n",
    "plt.show()"
   ]
  },
  {
   "cell_type": "markdown",
   "id": "36c51b7d-ef99-48ed-8e8c-1017d1b93bbd",
   "metadata": {},
   "source": [
    "Code for Bollinger Bands"
   ]
  },
  {
   "cell_type": "code",
   "execution_count": null,
   "id": "85682093-5b5d-4f7d-a420-a42a1471d6c9",
   "metadata": {},
   "outputs": [],
   "source": [
    "dis_closing_prices = pd.read_csv('DIS.csv')\n",
    "dis_closing_prices.set_index('Date', inplace=True)\n",
    "dis_closing_prices.drop(['Open', 'High', 'Low', 'Adj Close', 'Volume'], axis=1, inplace=True)\n",
    "dis_closing_prices.describe()\n",
    "\n",
    "dis_closing_prices['mavg30'] = dis_closing_prices['Close'].rolling(window=30).mean()\n",
    "dis_closing_prices['30dSTD'] = dis_closing_prices['Close'].rolling(window=30).std()\n",
    "\n",
    "dis_closing_prices['Upper'] = dis_closing_prices['mavg30'] + (dis_closing_prices['30dSTD'] * 2)\n",
    "dis_closing_prices['Lower'] = dis_closing_prices['mavg30'] - (dis_closing_prices['30dSTD'] * 2)\n",
    "\n",
    "dis_closing_prices = dis_closing_prices.dropna()\n",
    "dis_closing_prices.head()"
   ]
  },
  {
   "cell_type": "code",
   "execution_count": null,
   "id": "b4611d21-2b02-4bb7-aaef-c2c56ff410f8",
   "metadata": {},
   "outputs": [],
   "source": [
    "dis_closing_prices[['Close','mavg30','Upper','Lower']].plot(figsize=(20,10))\n",
    "plt.grid(True)\n",
    "plt.title('Disney Bollinger Bands (5 years)')\n",
    "plt.axis('tight')\n",
    "plt.ylabel('Price')\n",
    "plt.show()"
   ]
  }
 ],
 "metadata": {
  "kernelspec": {
   "display_name": "Python 3",
   "language": "python",
   "name": "python3"
  },
  "language_info": {
   "codemirror_mode": {
    "name": "ipython",
    "version": 3
   },
   "file_extension": ".py",
   "mimetype": "text/x-python",
   "name": "python",
   "nbconvert_exporter": "python",
   "pygments_lexer": "ipython3",
   "version": "3.8.8"
  }
 },
 "nbformat": 4,
 "nbformat_minor": 5
}
