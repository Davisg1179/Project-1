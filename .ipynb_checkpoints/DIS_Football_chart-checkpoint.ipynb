{
 "cells": [
  {
   "cell_type": "code",
   "execution_count": 52,
   "id": "efb0be5c-0a81-4e83-b1df-f718b6a6d182",
   "metadata": {},
   "outputs": [],
   "source": [
    "import requests\n",
    "import datetime\n",
    "from dotenv import load_dotenv\n",
    "import os\n",
    "import yfinance as yf\n",
    "import pandas as pd\n",
    "import numpy as np\n",
    "import matplotlib.pyplot as plt"
   ]
  },
  {
   "cell_type": "code",
   "execution_count": 3,
   "id": "4418e43f-1f7f-4d63-9f5e-e565f9ead6bd",
   "metadata": {},
   "outputs": [
    {
     "data": {
      "text/plain": [
       "True"
      ]
     },
     "execution_count": 3,
     "metadata": {},
     "output_type": "execute_result"
    }
   ],
   "source": [
    "load_dotenv()"
   ]
  },
  {
   "cell_type": "code",
   "execution_count": 4,
   "id": "028fed42-dc67-48ae-a421-ff6f17d6b12e",
   "metadata": {},
   "outputs": [],
   "source": [
    "api_key = os.getenv(\"FMP\")"
   ]
  },
  {
   "cell_type": "code",
   "execution_count": 44,
   "id": "92c79bb8-1116-41f2-9042-a21a706c2c6c",
   "metadata": {},
   "outputs": [],
   "source": [
    "company = 'DIS'\n",
    "\n",
    "BS= requests.get(f'https://financialmodelingprep.com/api/v3/balance-sheet-statement/{company}?apikey={api_key}').json()\n",
    "net_debt = BS[1]['netDebt']"
   ]
  },
  {
   "cell_type": "code",
   "execution_count": 45,
   "id": "8b2be47e-47b9-4d36-aa77-8f20912c1014",
   "metadata": {},
   "outputs": [
    {
     "data": {
      "text/plain": [
       "258081360000.0"
      ]
     },
     "execution_count": 45,
     "metadata": {},
     "output_type": "execute_result"
    }
   ],
   "source": [
    "shares = 1666000000\n",
    "price = 129.96\n",
    "\n",
    "mkt_cap = (shares * price) + net_debt\n",
    "mkt_cap"
   ]
  },
  {
   "cell_type": "code",
   "execution_count": 47,
   "id": "066f53ec-720f-4ff8-968e-e3ce0c8fb27a",
   "metadata": {},
   "outputs": [
    {
     "data": {
      "text/plain": [
       "13.861182662871261"
      ]
     },
     "execution_count": 47,
     "metadata": {},
     "output_type": "execute_result"
    }
   ],
   "source": [
    "ebitda = 18619000000\n",
    "\n",
    "ev_ebitda = mkt_cap / ebitda\n",
    "ev_ebitda"
   ]
  },
  {
   "cell_type": "code",
   "execution_count": 73,
   "id": "f2b5e4b6-e472-4c36-96eb-9c1a042c9b51",
   "metadata": {},
   "outputs": [
    {
     "data": {
      "text/plain": [
       "233285108570.43875"
      ]
     },
     "execution_count": 73,
     "metadata": {},
     "output_type": "execute_result"
    }
   ],
   "source": [
    "ebitda_2024 = 16830101315.62\n",
    "terminal_value = ebitda_2024 * ev_ebitda\n",
    "terminal_value"
   ]
  },
  {
   "cell_type": "code",
   "execution_count": 74,
   "id": "d2bbe7f3-dd68-4f4d-ad1e-afd9bca8cd7e",
   "metadata": {},
   "outputs": [
    {
     "data": {
      "text/plain": [
       "194592844486.40408"
      ]
     },
     "execution_count": 74,
     "metadata": {},
     "output_type": "execute_result"
    }
   ],
   "source": [
    "wacc = 0.04638146367688953\n",
    "discounted_tv = terminal_value/(1+wacc)**4\n",
    "discounted_tv"
   ]
  },
  {
   "cell_type": "code",
   "execution_count": 50,
   "id": "fbe81e40-1c4a-483e-a269-b1e7a7b73e4f",
   "metadata": {},
   "outputs": [
    {
     "data": {
      "text/plain": [
       "1812000000"
      ]
     },
     "execution_count": 50,
     "metadata": {},
     "output_type": "execute_result"
    }
   ],
   "source": [
    "num_shares = requests.get(f'https://financialmodelingprep.com/api/v3/enterprise-values/{company}?apikey={api_key}').json()\n",
    "num_shares = num_shares[0]['numberOfShares']\n",
    "num_shares"
   ]
  },
  {
   "cell_type": "code",
   "execution_count": 75,
   "id": "3d70dcb2-fa00-463d-801e-6a47d39fd457",
   "metadata": {},
   "outputs": [
    {
     "data": {
      "text/plain": [
       "84.4507971779272"
      ]
     },
     "execution_count": 75,
     "metadata": {},
     "output_type": "execute_result"
    }
   ],
   "source": [
    "equity_value = discounted_tv - net_debt\n",
    "target_price_per_share = equity_value/num_shares\n",
    "target_price_per_share"
   ]
  },
  {
   "cell_type": "code",
   "execution_count": 76,
   "id": "b49b9776-e8f9-40d7-af25-08085e008a38",
   "metadata": {},
   "outputs": [
    {
     "data": {
      "image/png": "[encoded data removed]",
      "text/plain": [
       "<Figure size 432x288 with 1 Axes>"
      ]
     },
     "metadata": {
      "needs_background": "light"
     },
     "output_type": "display_data"
    }
   ],
   "source": [
    "df_data = {'Metric':['DCF', 'EV/EBITDA', '52-Range'],\n",
    "          'Upper': [505.17, 128.69, 201.91],\n",
    "          'Lower': [321.27, 84.45, 115.61]}\n",
    "df = pd.DataFrame(df_data)\n",
    "df['Height'] = df['Upper'] - df['Lower']\n",
    "\n",
    "ax = df.plot(kind='bar', y='Height', x='Metric', bottom=df['Lower'], color='red', legend=False)\n",
    "ax.axhline(y=181.60, xmin=0, xmax=1, marker='_', color='black')\n",
    "ax.set_ylim(ymin=0)\n",
    "plt.tight_layout()\n",
    "plt.show()"
   ]
  },
  {
   "cell_type": "code",
   "execution_count": 78,
   "id": "5a28a409-eccd-46e8-a390-d25739075663",
   "metadata": {},
   "outputs": [],
   "source": [
    "import alpaca_trade_api as tradeapi"
   ]
  },
  {
   "cell_type": "code",
   "execution_count": 79,
   "id": "1f13b16f-7a4f-4853-ab51-c70e99656019",
   "metadata": {},
   "outputs": [],
   "source": [
    "\n",
    "alpaca_api_key = os.getenv(\"ALPACA_API_KEY\")\n",
    "alpaca_secret_key = os.getenv(\"ALPACA_SECRET_KEY\")\n",
    "\n",
    "alpaca = tradeapi.REST(\n",
    "    alpaca_api_key,\n",
    "    alpaca_secret_key,\n",
    "    api_version=\"v2\")"
   ]
  },
  {
   "cell_type": "code",
   "execution_count": 84,
   "id": "ecc89282-e5f8-4388-b770-9cd10ea7e176",
   "metadata": {},
   "outputs": [
    {
     "data": {
      "text/html": [
       "<div>\n",
       "<style scoped>\n",
       "    .dataframe tbody tr th:only-of-type {\n",
       "        vertical-align: middle;\n",
       "    }\n",
       "\n",
       "    .dataframe tbody tr th {\n",
       "        vertical-align: top;\n",
       "    }\n",
       "\n",
       "    .dataframe thead tr th {\n",
       "        text-align: left;\n",
       "    }\n",
       "\n",
       "    .dataframe thead tr:last-of-type th {\n",
       "        text-align: right;\n",
       "    }\n",
       "</style>\n",
       "<table border=\"1\" class=\"dataframe\">\n",
       "  <thead>\n",
       "    <tr>\n",
       "      <th></th>\n",
       "      <th colspan=\"5\" halign=\"left\">DIS</th>\n",
       "    </tr>\n",
       "    <tr>\n",
       "      <th></th>\n",
       "      <th>open</th>\n",
       "      <th>high</th>\n",
       "      <th>low</th>\n",
       "      <th>close</th>\n",
       "      <th>volume</th>\n",
       "    </tr>\n",
       "    <tr>\n",
       "      <th>time</th>\n",
       "      <th></th>\n",
       "      <th></th>\n",
       "      <th></th>\n",
       "      <th></th>\n",
       "      <th></th>\n",
       "    </tr>\n",
       "  </thead>\n",
       "  <tbody>\n",
       "    <tr>\n",
       "      <th>2020-07-09 00:00:00-04:00</th>\n",
       "      <td>116.51</td>\n",
       "      <td>117.8500</td>\n",
       "      <td>115.38</td>\n",
       "      <td>116.81</td>\n",
       "      <td>13042356</td>\n",
       "    </tr>\n",
       "    <tr>\n",
       "      <th>2020-07-10 00:00:00-04:00</th>\n",
       "      <td>116.83</td>\n",
       "      <td>119.4394</td>\n",
       "      <td>116.21</td>\n",
       "      <td>119.31</td>\n",
       "      <td>15157687</td>\n",
       "    </tr>\n",
       "    <tr>\n",
       "      <th>2020-07-13 00:00:00-04:00</th>\n",
       "      <td>119.94</td>\n",
       "      <td>120.1300</td>\n",
       "      <td>115.89</td>\n",
       "      <td>116.24</td>\n",
       "      <td>14555896</td>\n",
       "    </tr>\n",
       "    <tr>\n",
       "      <th>2020-07-14 00:00:00-04:00</th>\n",
       "      <td>115.23</td>\n",
       "      <td>119.0800</td>\n",
       "      <td>114.54</td>\n",
       "      <td>118.66</td>\n",
       "      <td>10788419</td>\n",
       "    </tr>\n",
       "    <tr>\n",
       "      <th>2020-07-15 00:00:00-04:00</th>\n",
       "      <td>121.63</td>\n",
       "      <td>122.0900</td>\n",
       "      <td>119.70</td>\n",
       "      <td>120.93</td>\n",
       "      <td>14098822</td>\n",
       "    </tr>\n",
       "  </tbody>\n",
       "</table>\n",
       "</div>"
      ],
      "text/plain": [
       "                              DIS                                    \n",
       "                             open      high     low   close    volume\n",
       "time                                                                 \n",
       "2020-07-09 00:00:00-04:00  116.51  117.8500  115.38  116.81  13042356\n",
       "2020-07-10 00:00:00-04:00  116.83  119.4394  116.21  119.31  15157687\n",
       "2020-07-13 00:00:00-04:00  119.94  120.1300  115.89  116.24  14555896\n",
       "2020-07-14 00:00:00-04:00  115.23  119.0800  114.54  118.66  10788419\n",
       "2020-07-15 00:00:00-04:00  121.63  122.0900  119.70  120.93  14098822"
      ]
     },
     "execution_count": 84,
     "metadata": {},
     "output_type": "execute_result"
    }
   ],
   "source": [
    "ticker = 'DIS'\n",
    "timeframe = '1D'\n",
    "\n",
    "start = pd.Timestamp(\"2020-07-09\", tz=\"America/New_York\").isoformat()\n",
    "end = pd.Timestamp(\"2021-07-09\", tz=\"America/New_York\").isoformat()\n",
    "\n",
    "df_year = alpaca.get_barset(\n",
    "    ticker,\n",
    "    timeframe,\n",
    "    start = start,\n",
    "    end = end,\n",
    "    limit = 1000\n",
    ").df\n",
    "\n",
    "df_year.head()"
   ]
  },
  {
   "cell_type": "code",
   "execution_count": 85,
   "id": "0016e0a1-0837-4421-88a2-8a000181e83d",
   "metadata": {},
   "outputs": [
    {
     "data": {
      "text/html": [
       "<div>\n",
       "<style scoped>\n",
       "    .dataframe tbody tr th:only-of-type {\n",
       "        vertical-align: middle;\n",
       "    }\n",
       "\n",
       "    .dataframe tbody tr th {\n",
       "        vertical-align: top;\n",
       "    }\n",
       "\n",
       "    .dataframe thead th {\n",
       "        text-align: right;\n",
       "    }\n",
       "</style>\n",
       "<table border=\"1\" class=\"dataframe\">\n",
       "  <thead>\n",
       "    <tr style=\"text-align: right;\">\n",
       "      <th></th>\n",
       "      <th>close</th>\n",
       "      <th>mavg20</th>\n",
       "      <th>20dSTD</th>\n",
       "      <th>Upper</th>\n",
       "      <th>Lower</th>\n",
       "    </tr>\n",
       "  </thead>\n",
       "  <tbody>\n",
       "    <tr>\n",
       "      <th>2020-08-05</th>\n",
       "      <td>127.6400</td>\n",
       "      <td>118.167335</td>\n",
       "      <td>2.644818</td>\n",
       "      <td>123.456972</td>\n",
       "      <td>112.877698</td>\n",
       "    </tr>\n",
       "    <tr>\n",
       "      <th>2020-08-06</th>\n",
       "      <td>130.8200</td>\n",
       "      <td>118.867835</td>\n",
       "      <td>3.848033</td>\n",
       "      <td>126.563901</td>\n",
       "      <td>111.171769</td>\n",
       "    </tr>\n",
       "    <tr>\n",
       "      <th>2020-08-07</th>\n",
       "      <td>130.0000</td>\n",
       "      <td>119.402335</td>\n",
       "      <td>4.584617</td>\n",
       "      <td>128.571569</td>\n",
       "      <td>110.233101</td>\n",
       "    </tr>\n",
       "    <tr>\n",
       "      <th>2020-08-10</th>\n",
       "      <td>128.8300</td>\n",
       "      <td>120.031835</td>\n",
       "      <td>4.975258</td>\n",
       "      <td>129.982351</td>\n",
       "      <td>110.081319</td>\n",
       "    </tr>\n",
       "    <tr>\n",
       "      <th>2020-08-11</th>\n",
       "      <td>130.5202</td>\n",
       "      <td>120.624845</td>\n",
       "      <td>5.483954</td>\n",
       "      <td>131.592753</td>\n",
       "      <td>109.656937</td>\n",
       "    </tr>\n",
       "  </tbody>\n",
       "</table>\n",
       "</div>"
      ],
      "text/plain": [
       "               close      mavg20    20dSTD       Upper       Lower\n",
       "2020-08-05  127.6400  118.167335  2.644818  123.456972  112.877698\n",
       "2020-08-06  130.8200  118.867835  3.848033  126.563901  111.171769\n",
       "2020-08-07  130.0000  119.402335  4.584617  128.571569  110.233101\n",
       "2020-08-10  128.8300  120.031835  4.975258  129.982351  110.081319\n",
       "2020-08-11  130.5202  120.624845  5.483954  131.592753  109.656937"
      ]
     },
     "execution_count": 85,
     "metadata": {},
     "output_type": "execute_result"
    }
   ],
   "source": [
    "dis_closing_prices = pd.DataFrame()\n",
    "dis_closing_prices[\"close\"] = df_year[\"DIS\"][\"close\"]\n",
    "dis_closing_prices.index = dis_closing_prices.index.date\n",
    "\n",
    "dis_closing_prices['mavg20'] = dis_closing_prices['close'].rolling(window=20).mean()\n",
    "dis_closing_prices['20dSTD'] = dis_closing_prices['close'].rolling(window=20).std()\n",
    "\n",
    "dis_closing_prices['Upper'] = dis_closing_prices['mavg20'] + (dis_closing_prices['20dSTD'] * 2)\n",
    "dis_closing_prices['Lower'] = dis_closing_prices['mavg20'] - (dis_closing_prices['20dSTD'] * 2)\n",
    "\n",
    "dis_closing_prices = dis_closing_prices.dropna()\n",
    "dis_closing_prices.head()"
   ]
  },
  {
   "cell_type": "code",
   "execution_count": 86,
   "id": "279189f0-715b-43b2-8a58-c66b264df348",
   "metadata": {},
   "outputs": [
    {
     "data": {
      "image/png": "[encoded data removed]",
      "text/plain": [
       "<Figure size 720x288 with 1 Axes>"
      ]
     },
     "metadata": {
      "needs_background": "light"
     },
     "output_type": "display_data"
    }
   ],
   "source": [
    "dis_closing_prices[['close','mavg20','Upper','Lower']].plot(figsize=(10,4))\n",
    "plt.grid(True)\n",
    "plt.title('DIS Bollinger Bands')\n",
    "plt.axis('tight')\n",
    "plt.ylabel('Price')\n",
    "plt.show()"
   ]
  },
  {
   "cell_type": "code",
   "execution_count": null,
   "id": "30f284d3-2e4a-4bef-84da-f8057e094963",
   "metadata": {},
   "outputs": [],
   "source": []
  }
 ],
 "metadata": {
  "kernelspec": {
   "display_name": "Python 3",
   "language": "python",
   "name": "python3"
  },
  "language_info": {
   "codemirror_mode": {
    "name": "ipython",
    "version": 3
   },
   "file_extension": ".py",
   "mimetype": "text/x-python",
   "name": "python",
   "nbconvert_exporter": "python",
   "pygments_lexer": "ipython3",
   "version": "3.8.8"
  }
 },
 "nbformat": 4,
 "nbformat_minor": 5
}
