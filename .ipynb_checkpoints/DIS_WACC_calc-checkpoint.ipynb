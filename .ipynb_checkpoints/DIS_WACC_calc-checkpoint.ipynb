{
 "cells": [
  {
   "cell_type": "code",
   "execution_count": 26,
   "id": "28ba0a91-07cd-4fc2-b9b6-54c1a2a26f9d",
   "metadata": {},
   "outputs": [],
   "source": [
    "import pandas as pd\n",
    "import pandas_datareader.data as web\n",
    "import requests\n",
    "import datetime\n",
    "from dotenv import load_dotenv\n",
    "import os\n",
    "import yfinance as yf"
   ]
  },
  {
   "cell_type": "code",
   "execution_count": 27,
   "id": "b1e84c00-d7f1-437a-89cd-063fe1935148",
   "metadata": {},
   "outputs": [
    {
     "data": {
      "text/plain": [
       "True"
      ]
     },
     "execution_count": 27,
     "metadata": {},
     "output_type": "execute_result"
    }
   ],
   "source": [
    "load_dotenv()"
   ]
  },
  {
   "cell_type": "code",
   "execution_count": 28,
   "id": "41e1a781-2630-40d6-be2b-6c5467916b90",
   "metadata": {},
   "outputs": [],
   "source": [
    "api_key = os.getenv(\"FMP\")"
   ]
  },
  {
   "cell_type": "code",
   "execution_count": 29,
   "id": "7a2ff0fa-2b3d-47ce-abc7-42d863f7320e",
   "metadata": {},
   "outputs": [
    {
     "name": "stdout",
     "output_type": "stream",
     "text": [
      "0.0007000000000000001 2.3035822707953857\n"
     ]
    }
   ],
   "source": [
    "company = 'DIS'\n",
    "\n",
    "#Function to caluculate interest coverage ratio from items on most recent income statement\n",
    "def interest_coverage_and_RF(company):\n",
    "    IS= requests.get(f'https://financialmodelingprep.com/api/v3/income-statement/{company}?apikey={api_key}').json()\n",
    "    EBIT= IS[0]['ebitda'] - IS[0]['depreciationAndAmortization'] \n",
    "    interest_expense = IS[0]['interestExpense']\n",
    "    interest_coverage_ratio = EBIT / interest_expense\n",
    "    \n",
    "#Calculation of risk free rate using most recent data for one year treasury bills\n",
    "    start = datetime.datetime(2020, 7, 12)\n",
    "    end = datetime.datetime.today().strftime('%Y-%m-%d')\n",
    "    Treasury = web.DataReader(['TB1YR'], 'fred', start, end)\n",
    "    RF = float(Treasury.iloc[-1])\n",
    "    RF = RF/100\n",
    "    print(RF, interest_coverage_ratio)\n",
    "    return [RF,interest_coverage_ratio]\n",
    "\n",
    "interest = interest_coverage_and_RF(company)\n",
    "RF = interest[0]\n",
    "interest_coverage_ratio = interest[1]"
   ]
  },
  {
   "cell_type": "code",
   "execution_count": 30,
   "id": "ffcf3a2c-14fc-4c7d-ad7f-20aca9d0d1f9",
   "metadata": {},
   "outputs": [
    {
     "name": "stdout",
     "output_type": "stream",
     "text": [
      "0.0207\n"
     ]
    }
   ],
   "source": [
    "def cost_of_debt(company, RF,interest_coverage_ratio):\n",
    "    if interest_coverage_ratio > 8.5:\n",
    "        #Rating is AAA\n",
    "        credit_spread = 0.0063\n",
    "    if (interest_coverage_ratio > 6.5) & (interest_coverage_ratio <= 8.5):\n",
    "        #Rating is AA\n",
    "        credit_spread = 0.0078\n",
    "    if (interest_coverage_ratio > 5.5) & (interest_coverage_ratio <=  6.5):\n",
    "        #Rating is A+\n",
    "        credit_spread = 0.0098\n",
    "    if (interest_coverage_ratio > 4.25) & (interest_coverage_ratio <=  5.49):\n",
    "        #Rating is A\n",
    "        credit_spread = 0.0108\n",
    "    if (interest_coverage_ratio > 3) & (interest_coverage_ratio <=  4.25):\n",
    "        #Rating is A-\n",
    "        credit_spread = 0.0122\n",
    "    if (interest_coverage_ratio > 2.5) & (interest_coverage_ratio <=  3):\n",
    "        #Rating is BBB\n",
    "        credit_spread = 0.0156\n",
    "    if (interest_coverage_ratio > 2.25) & (interest_coverage_ratio <=  2.5):\n",
    "        #Rating is BB+\n",
    "        credit_spread = 0.02\n",
    "    if (interest_coverage_ratio > 2) & (interest_coverage_ratio <=  2.25):\n",
    "        #Rating is BB\n",
    "        credit_spread = 0.0240\n",
    "    if (interest_coverage_ratio > 1.75) & (interest_coverage_ratio <=  2):\n",
    "        #Rating is B+\n",
    "        credit_spread = 0.0351\n",
    "    if (interest_coverage_ratio > 1.5) & (interest_coverage_ratio <=  1.75):\n",
    "        #Rating is B\n",
    "        credit_spread = 0.0421\n",
    "    if (interest_coverage_ratio > 1.25) & (interest_coverage_ratio <=  1.5):\n",
    "        #Rating is B-\n",
    "        credit_spread = 0.0515\n",
    "    if (interest_coverage_ratio > 0.8) & (interest_coverage_ratio <=  1.25):\n",
    "        #Rating is CCC\n",
    "        credit_spread = 0.0820\n",
    "    if (interest_coverage_ratio > 0.65) & (interest_coverage_ratio <=  0.8):\n",
    "        #Rating is CC\n",
    "        credit_spread = 0.0864\n",
    "    if (interest_coverage_ratio > 0.2) & (interest_coverage_ratio <=  0.65):\n",
    "        #Rating is C\n",
    "        credit_spread = 0.1134\n",
    "    if interest_coverage_ratio <=  0.2:\n",
    "        #Rating is D\n",
    "        credit_spread = 0.1512\n",
    "  \n",
    "    cost_of_debt = RF + credit_spread\n",
    "    print(cost_of_debt)\n",
    "    return cost_of_debt\n",
    "kd = cost_of_debt(company,RF,interest_coverage_ratio)"
   ]
  },
  {
   "cell_type": "code",
   "execution_count": 33,
   "id": "b7ed3f4d-0bae-4b78-8c00-a7f4bfc5c66e",
   "metadata": {},
   "outputs": [
    {
     "name": "stdout",
     "output_type": "stream",
     "text": [
      "0.438192906797931\n"
     ]
    }
   ],
   "source": [
    "def costofequity(company):\n",
    "    beta = requests.get(f'https://financialmodelingprep.com/api/v3/company/profile/{company}?apikey={api_key}').json()\n",
    "    beta = float(beta['profile']['beta'])\n",
    "    \n",
    "    #Market Return\n",
    "    start = datetime.datetime(2020, 7, 10)\n",
    "    end = datetime.datetime.today().strftime('%Y-%m-%d')\n",
    "    \n",
    "    SP500 = web.DataReader(['sp500'], 'fred', start, end)\n",
    "    SP500.dropna(inplace = True)\n",
    "    \n",
    "    SP500yearlyreturn = (SP500['sp500'].iloc[-1]/ SP500['sp500'].iloc[-252])-1\n",
    "    \n",
    "    cost_of_equity = RF+(beta*(SP500yearlyreturn - RF))\n",
    "    print(cost_of_equity)\n",
    "    return cost_of_equity\n",
    "\n",
    "ke = costofequity(company)"
   ]
  },
  {
   "cell_type": "code",
   "execution_count": 37,
   "id": "375d095c-aa61-4e5a-99fd-59f65439dc48",
   "metadata": {},
   "outputs": [
    {
     "name": "stdout",
     "output_type": "stream",
     "text": [
      "0.26949933870033854 0.587739345057696 0.412260654942304\n"
     ]
    }
   ],
   "source": [
    "#effective tax rate and capital structure\n",
    "#def wacc(company):\n",
    "    #effective tax rate retrieved from financial modeling prep api\n",
    "FR = requests.get(f'https://financialmodelingprep.com/api/v3/ratios/{company}?apikey={api_key}').json()\n",
    "ETR = FR[0]['effectiveTaxRate']\n",
    "    \n",
    "    #Capital structure calculated from items on balance sheet (BS)\n",
    "api_key = os.getenv(\"alpha_vantage\")\n",
    "BS = requests.get(f'https://www.alphavantage.co/query?function=BALANCE_SHEET&symbol={company}&apikey={api_key}').json()\n",
    "Debt_to = int(BS['annualReports'][0]['shortLongTermDebtTotal']) / (int(BS['annualReports'][0]['shortLongTermDebtTotal']) + int(BS['annualReports'][0]['totalShareholderEquity']))\n",
    "equity_to = int(BS['annualReports'][0]['totalShareholderEquity']) / (int(BS['annualReports'][0]['shortLongTermDebtTotal']) + int(BS['annualReports'][0]['totalShareholderEquity']))\n",
    "WACC = (kd*(1-ETR)*Debt_to) + (ke*equity_to)\n",
    "print(WACC)\n",
    "    #return WACC\n",
    "\n",
    "#wacc_company = wacc(company)"
   ]
  },
  {
   "cell_type": "code",
   "execution_count": null,
   "id": "d3d041c9-e339-4ef2-b04f-5b370720d810",
   "metadata": {},
   "outputs": [],
   "source": []
  }
 ],
 "metadata": {
  "kernelspec": {
   "display_name": "Python 3",
   "language": "python",
   "name": "python3"
  },
  "language_info": {
   "codemirror_mode": {
    "name": "ipython",
    "version": 3
   },
   "file_extension": ".py",
   "mimetype": "text/x-python",
   "name": "python",
   "nbconvert_exporter": "python",
   "pygments_lexer": "ipython3",
   "version": "3.8.8"
  }
 },
 "nbformat": 4,
 "nbformat_minor": 5
}
