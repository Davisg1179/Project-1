{
 "cells": [
  {
   "cell_type": "code",
   "execution_count": 1,
   "id": "c3c8f033-7d5e-4ce0-a5c3-74024cc7c2be",
   "metadata": {},
   "outputs": [],
   "source": [
    "import pandas as pd\n",
    "import pandas_datareader.data as web\n",
    "import requests\n",
    "import datetime\n",
    "from dotenv import load_dotenv\n",
    "import os\n",
    "import yfinance as yf"
   ]
  },
  {
   "cell_type": "code",
   "execution_count": 2,
   "id": "c8ed112d-7fc1-4c1b-bc8a-1e934f25541c",
   "metadata": {},
   "outputs": [
    {
     "data": {
      "text/plain": [
       "True"
      ]
     },
     "execution_count": 2,
     "metadata": {},
     "output_type": "execute_result"
    }
   ],
   "source": [
    "load_dotenv()"
   ]
  },
  {
   "cell_type": "code",
   "execution_count": 3,
   "id": "0dd37b6e-9c53-4cc3-b531-652d00105158",
   "metadata": {},
   "outputs": [],
   "source": [
    "api_key = os.getenv(\"FMP\")"
   ]
  },
  {
   "cell_type": "code",
   "execution_count": 4,
   "id": "27fd2679-a0ca-43d8-aa07-0d410f7c2677",
   "metadata": {},
   "outputs": [
    {
     "name": "stdout",
     "output_type": "stream",
     "text": [
      "0.0015 11.604333868378813\n"
     ]
    }
   ],
   "source": [
    "company = 'DIS'\n",
    "\n",
    "#Function to caluculate interest coverage ratio from items on most recent income statement\n",
    "def interest_coverage_and_RF(company):\n",
    "    IS= requests.get(f'https://financialmodelingprep.com/api/v3/income-statement/{company}?apikey={api_key}').json()\n",
    "    EBIT= IS[1]['ebitda'] - IS[1]['depreciationAndAmortization'] \n",
    "    interest_expense = IS[1]['interestExpense']\n",
    "    interest_coverage_ratio = EBIT / interest_expense\n",
    "    \n",
    "#Calculation of risk free rate using most recent data for one year treasury bills\n",
    "    start = datetime.datetime(2019, 7, 12)\n",
    "    end = datetime.datetime(2020, 7, 12)\n",
    "    Treasury = web.DataReader(['TB1YR'], 'fred', start, end)\n",
    "    RF = float(Treasury.iloc[-1])\n",
    "    RF = RF/100\n",
    "    print(RF, interest_coverage_ratio)\n",
    "    return [RF,interest_coverage_ratio]\n",
    "\n",
    "interest = interest_coverage_and_RF(company)\n",
    "RF = interest[0]\n",
    "interest_coverage_ratio = interest[1]"
   ]
  },
  {
   "cell_type": "code",
   "execution_count": 5,
   "id": "59d5852e-4599-4d3e-a992-5699d6fffcad",
   "metadata": {},
   "outputs": [
    {
     "name": "stdout",
     "output_type": "stream",
     "text": [
      "0.0078\n"
     ]
    }
   ],
   "source": [
    "def cost_of_debt(company, RF,interest_coverage_ratio):\n",
    "    if interest_coverage_ratio > 8.5:\n",
    "        #Rating is AAA\n",
    "        credit_spread = 0.0063\n",
    "    if (interest_coverage_ratio > 6.5) & (interest_coverage_ratio <= 8.5):\n",
    "        #Rating is AA\n",
    "        credit_spread = 0.0078\n",
    "    if (interest_coverage_ratio > 5.5) & (interest_coverage_ratio <=  6.5):\n",
    "        #Rating is A+\n",
    "        credit_spread = 0.0098\n",
    "    if (interest_coverage_ratio > 4.25) & (interest_coverage_ratio <=  5.49):\n",
    "        #Rating is A\n",
    "        credit_spread = 0.0108\n",
    "    if (interest_coverage_ratio > 3) & (interest_coverage_ratio <=  4.25):\n",
    "        #Rating is A-\n",
    "        credit_spread = 0.0122\n",
    "    if (interest_coverage_ratio > 2.5) & (interest_coverage_ratio <=  3):\n",
    "        #Rating is BBB\n",
    "        credit_spread = 0.0156\n",
    "    if (interest_coverage_ratio > 2.25) & (interest_coverage_ratio <=  2.5):\n",
    "        #Rating is BB+\n",
    "        credit_spread = 0.02\n",
    "    if (interest_coverage_ratio > 2) & (interest_coverage_ratio <=  2.25):\n",
    "        #Rating is BB\n",
    "        credit_spread = 0.0240\n",
    "    if (interest_coverage_ratio > 1.75) & (interest_coverage_ratio <=  2):\n",
    "        #Rating is B+\n",
    "        credit_spread = 0.0351\n",
    "    if (interest_coverage_ratio > 1.5) & (interest_coverage_ratio <=  1.75):\n",
    "        #Rating is B\n",
    "        credit_spread = 0.0421\n",
    "    if (interest_coverage_ratio > 1.25) & (interest_coverage_ratio <=  1.5):\n",
    "        #Rating is B-\n",
    "        credit_spread = 0.0515\n",
    "    if (interest_coverage_ratio > 0.8) & (interest_coverage_ratio <=  1.25):\n",
    "        #Rating is CCC\n",
    "        credit_spread = 0.0820\n",
    "    if (interest_coverage_ratio > 0.65) & (interest_coverage_ratio <=  0.8):\n",
    "        #Rating is CC\n",
    "        credit_spread = 0.0864\n",
    "    if (interest_coverage_ratio > 0.2) & (interest_coverage_ratio <=  0.65):\n",
    "        #Rating is C\n",
    "        credit_spread = 0.1134\n",
    "    if interest_coverage_ratio <=  0.2:\n",
    "        #Rating is D\n",
    "        credit_spread = 0.1512\n",
    "  \n",
    "    cost_of_debt = RF + credit_spread\n",
    "    print(cost_of_debt)\n",
    "    return cost_of_debt\n",
    "kd = cost_of_debt(company,RF,interest_coverage_ratio)"
   ]
  },
  {
   "cell_type": "code",
   "execution_count": 6,
   "id": "4a257f00-9bf1-4384-8812-17128a528382",
   "metadata": {},
   "outputs": [
    {
     "name": "stdout",
     "output_type": "stream",
     "text": [
      "0.06768445758710014\n"
     ]
    }
   ],
   "source": [
    "def costofequity(company):\n",
    "    beta = requests.get(f'https://financialmodelingprep.com/api/v3/company/profile/{company}?apikey={api_key}').json()\n",
    "    beta = float(beta['profile']['beta'])\n",
    "    \n",
    "    #Market Return\n",
    "    start = datetime.datetime(2019, 7, 10)\n",
    "    end = datetime.datetime(2020, 7, 10)\n",
    "    \n",
    "    SP500 = web.DataReader(['sp500'], 'fred', start, end)\n",
    "    SP500.dropna(inplace = True)\n",
    "    \n",
    "    SP500yearlyreturn = (SP500['sp500'].iloc[-1]/ SP500['sp500'].iloc[-252])-1\n",
    "    \n",
    "    cost_of_equity = RF+(beta*(SP500yearlyreturn - RF))\n",
    "    print(cost_of_equity)\n",
    "    return cost_of_equity\n",
    "\n",
    "ke = costofequity(company)"
   ]
  },
  {
   "cell_type": "code",
   "execution_count": 7,
   "id": "11473e72-4290-4ab0-8fd4-3f86516ee287",
   "metadata": {},
   "outputs": [
    {
     "name": "stdout",
     "output_type": "stream",
     "text": [
      "0.04638146367688953\n"
     ]
    }
   ],
   "source": [
    "FR = requests.get(f'https://financialmodelingprep.com/api/v3/ratios/{company}?apikey={api_key}').json()\n",
    "ETR = FR[1]['effectiveTaxRate']\n",
    "    \n",
    "    #Capital structure calculated from items on balance sheet (BS)\n",
    "api_key = os.getenv(\"alpha_vantage\")\n",
    "BS = requests.get(f'https://www.alphavantage.co/query?function=BALANCE_SHEET&symbol={company}&apikey={api_key}').json()\n",
    "Debt_to = int(BS['annualReports'][1]['shortLongTermDebtTotal']) / (int(BS['annualReports'][1]['shortLongTermDebtTotal']) + int(BS['annualReports'][1]['totalShareholderEquity']))\n",
    "equity_to = int(BS['annualReports'][1]['totalShareholderEquity']) / (int(BS['annualReports'][1]['shortLongTermDebtTotal']) + int(BS['annualReports'][1]['totalShareholderEquity']))\n",
    "WACC = (kd*(1-ETR)*Debt_to) + (ke*equity_to)\n",
    "print(WACC)"
   ]
  },
  {
   "cell_type": "code",
   "execution_count": null,
   "id": "6905051f-2115-4f00-836b-9444670e39b4",
   "metadata": {},
   "outputs": [],
   "source": []
  }
 ],
 "metadata": {
  "kernelspec": {
   "display_name": "Python 3",
   "language": "python",
   "name": "python3"
  },
  "language_info": {
   "codemirror_mode": {
    "name": "ipython",
    "version": 3
   },
   "file_extension": ".py",
   "mimetype": "text/x-python",
   "name": "python",
   "nbconvert_exporter": "python",
   "pygments_lexer": "ipython3",
   "version": "3.8.8"
  }
 },
 "nbformat": 4,
 "nbformat_minor": 5
}
